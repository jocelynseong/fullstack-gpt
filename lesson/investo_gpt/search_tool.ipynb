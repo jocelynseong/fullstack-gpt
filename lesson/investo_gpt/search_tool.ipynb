{
 "cells": [
  {
   "cell_type": "code",
   "execution_count": null,
   "metadata": {},
   "outputs": [
    {
     "name": "stdout",
     "output_type": "stream",
     "text": [
      "\n",
      "\n",
      "\u001b[1m> Entering new AgentExecutor chain...\u001b[0m\n",
      "\u001b[32;1m\u001b[1;3m\n",
      "Invoking: `StockMarketSymbolSearchTool` with `{'query': 'Cloudflare stock market symbol'}`\n",
      "\n",
      "\n",
      "\u001b[0m\u001b[36;1m\u001b[1;3mReal-time Cloudflare stock price (NYSE: NET) plus other valuable data points like day range, year, stock analyst insights, related news and more. About NET. Cloudflare, Inc. operates as a cloud services provider that delivers a range of services to businesses worldwide. The company provides an integrated cloud-based security solution to secure a range of combination of platforms, including public cloud, private cloud, on-premise, software-as-a-service applications, and IoT devices; and website and application security products ... Get Cloudflare Inc (NET) real-time stock quotes, news, price and financial information from Reuters to inform your trading and investments Cloudflare's relatively high valuation metrics reflect the company's strong growth prospects and competitive positioning. The company's price-to-earnings and price-to-book ratio are significantly higher than the industry average. Cloudflare's stock has recently been incredibly volatile, ranging between approximately $30 and $80. Stock analysis for Cloudflare Inc (NET:New York) including stock price, stock chart, company news, key statistics, fundamentals and company profile.\u001b[0m\u001b[32;1m\u001b[1;3mCloudflare's stock market symbol is NET and it is listed on the New York Stock Exchange (NYSE). Cloudflare, Inc. operates as a cloud services provider that delivers a range of services to businesses worldwide. The company provides an integrated cloud-based security solution to secure a range of platforms.\n",
      "\n",
      "Cloudflare's stock has relatively high valuation metrics reflecting the company's strong growth prospects and competitive positioning. The price-to-earnings and price-to-book ratio are significantly higher than the industry average. The stock has been volatile, ranging between approximately $30 and $80.\n",
      "\n",
      "To analyze if Cloudflare is a potential good investment, it's important to consider factors such as the company's financial performance, growth prospects, competitive positioning, and market trends. It's recommended to conduct a thorough analysis or consult with a financial advisor before making any investment decisions.\u001b[0m\n",
      "\n",
      "\u001b[1m> Finished chain.\u001b[0m\n"
     ]
    },
    {
     "data": {
      "text/plain": [
       "{'input': \"Give me information on Cloudflare's stock and help me analyze if it's a potential good investment. Also tell me what symbol does the stock have.\",\n",
       " 'output': \"Cloudflare's stock market symbol is NET and it is listed on the New York Stock Exchange (NYSE). Cloudflare, Inc. operates as a cloud services provider that delivers a range of services to businesses worldwide. The company provides an integrated cloud-based security solution to secure a range of platforms.\\n\\nCloudflare's stock has relatively high valuation metrics reflecting the company's strong growth prospects and competitive positioning. The price-to-earnings and price-to-book ratio are significantly higher than the industry average. The stock has been volatile, ranging between approximately $30 and $80.\\n\\nTo analyze if Cloudflare is a potential good investment, it's important to consider factors such as the company's financial performance, growth prospects, competitive positioning, and market trends. It's recommended to conduct a thorough analysis or consult with a financial advisor before making any investment decisions.\"}"
      ]
     },
     "execution_count": 1,
     "metadata": {},
     "output_type": "execute_result"
    }
   ],
   "source": [
    "from langchain.chat_models import ChatOpenAI\n",
    "from langchain.agents import initialize_agent, AgentType\n",
    "from langchain.tools import StructuredTool, Tool, BaseTool\n",
    "from pydantic import BaseModel, Field\n",
    "from typing import Any, Type\n",
    "from langchain.utilities import DuckDuckGoSearchAPIWrapper ##검색라이브러리\n",
    "llm = ChatOpenAI(\n",
    "    temperature=0.1\n",
    ")\n",
    "\n",
    "class StockMarketSymbolSearchToolArgsSchema(BaseModel):\n",
    "    query: str = Field(\n",
    "        description=\"The query you will search for.Example query: Stock Market Symbol for Apple Company\"\n",
    "    )\n",
    "\n",
    "class StockMarketSymbolSearchTool(BaseTool):\n",
    "    name=\"StockMarketSymbolSearchTool\"\n",
    "    description=\"\"\" \n",
    "        Use this tool to find the stock market symbol for a company.\n",
    "        It takes a query as an argument.\n",
    "        Example query : \n",
    "    \"\"\"\n",
    "    args_schema: Type[\n",
    "        StockMarketSymbolSearchToolArgsSchema\n",
    "    ] = StockMarketSymbolSearchToolArgsSchema\n",
    "    def _run(self, query):\n",
    "        ddg = DuckDuckGoSearchAPIWrapper()\n",
    "        return ddg.run(query)\n",
    "\n",
    "agent = initialize_agent(llm=llm, \n",
    "    verbose=True,\n",
    "    agent=AgentType.OPENAI_FUNCTIONS,\n",
    "    handle_parsing_error=True, ## 자동으로 오류 해결\n",
    "    tools=[\n",
    "        StockMarketSymbolSearchTool()\n",
    "    ]\n",
    "    )\n",
    "\n",
    "prompt = \"Give me information on Cloudflare's stock and help me analyze if it's a potential good investment. Also tell me what symbol does the stock have.\"\n",
    "\n",
    "agent.invoke(prompt)"
   ]
  }
 ],
 "metadata": {
  "kernelspec": {
   "display_name": "env",
   "language": "python",
   "name": "python3"
  },
  "language_info": {
   "codemirror_mode": {
    "name": "ipython",
    "version": 3
   },
   "file_extension": ".py",
   "mimetype": "text/x-python",
   "name": "python",
   "nbconvert_exporter": "python",
   "pygments_lexer": "ipython3",
   "version": "3.11.11"
  }
 },
 "nbformat": 4,
 "nbformat_minor": 2
}
