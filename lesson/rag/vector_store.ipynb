{
 "cells": [
  {
   "cell_type": "code",
   "execution_count": null,
   "metadata": {},
   "outputs": [
    {
     "data": {
      "text/plain": [
       "1536"
      ]
     },
     "execution_count": 4,
     "metadata": {},
     "output_type": "execute_result"
    }
   ],
   "source": [
    "from langchain.embeddings import OpenAIEmbeddings\n",
    "\n",
    "embedder = OpenAIEmbeddings()\n",
    "\n",
    "vector = embedder.embed_documents([\n",
    "    \"hi\",\n",
    "    \"how\",\n",
    "    \"are\",\n",
    "    \"you\"\n",
    "])\n",
    "\n",
    "len(vector[0])\n"
   ]
  },
  {
   "cell_type": "markdown",
   "metadata": {},
   "source": [
    "## vector store\n",
    "벡터들을 만들고 캐시하고, store에 넣으면 검색을할 수가 있음\n",
    "\n",
    "무료 제공 library Chroma"
   ]
  },
  {
   "cell_type": "code",
   "execution_count": 16,
   "metadata": {},
   "outputs": [],
   "source": [
    "from langchain.text_splitter import CharacterTextSplitter\n",
    "from langchain.document_loaders import UnstructuredFileLoader\n",
    "from langchain.vectorstores import Chroma\n",
    "from langchain.embeddings import OpenAIEmbeddings, CacheBackedEmbeddings\n",
    "from langchain.storage import LocalFileStore\n",
    "\n",
    "cache_dir = LocalFileStore('../../db/')\n",
    "\n",
    "loader = UnstructuredFileLoader(\"./file/little_prince.txt\")\n",
    "\n",
    "spliter = CharacterTextSplitter.from_tiktoken_encoder(\n",
    "    separator=\"\\n\",\n",
    "    chunk_size=600,\n",
    "    chunk_overlap=100\n",
    ")\n",
    "\n",
    "docs = loader.load_and_split(text_splitter=spliter)\n",
    "embeddings = OpenAIEmbeddings()\n",
    "cached_embeddings = CacheBackedEmbeddings.from_bytes_store(\n",
    "    embeddings, cache_dir\n",
    ")\n",
    "vectorstore = Chroma.from_documents(docs, cached_embeddings)"
   ]
  },
  {
   "cell_type": "code",
   "execution_count": 17,
   "metadata": {},
   "outputs": [
    {
     "data": {
      "text/plain": [
       "[Document(page_content='On our earth we are obviously much too small to clean out our volcanoes. That is why they bring no end of trouble upon us.\\nThe little prince also pulled up, with a certain sense of dejection, the last little shoots of the baobabs. He believed that he would never want to return. But on this last morning all these familiar tasks seemed very precious to\\nhim. And when he watered the flower for the last time, and prepared to place her under the shelter of her glass globe, he realized that he was very close to tears.\\n\"Goodbye,\" he said to the flower.\\nBut she made no answer.\\n\"Goodbye,\" he said again.\\nThe flower coughed. But it was not because she had a cold.\\n\"I have been silly,\" she said to him, at last. \"I ask your forgiveness. Try to be happy . . .\"\\nHe was surprised by this absence of reproaches. He stood there all bewildered, the glass globe held arrested in mid-air. He did not understand this quiet sweetness.\\n\"Of course I love you,\" the flower said to him. \"It is my fault that you have not known it all the while. That is of no importance. But you--you have been just as foolish as I. Try to be happy . . . Let the glass globe be. I don\\'t want it any more.\"\\n\"But the wind-\\n\"\\n\"My cold is not so bad as all that . . . The cool night air will do me good. I am a flower.\"\\n\"But the animals-\\n\"\\n\"Well, I must endure the presence of two or three caterpillars if I wish to become acquainted with the butterflies. It seems that they are very beautiful. And if not the butterflies--and the caterpillars--who will call upon me? You will be far away . . . As for the large animals--I am not at all afraid of any of them. I have my claws.\"\\nAnd, naïvely, she showed her four thorns. Then she added:\\n\"Don\\'t linger like this. You have decided to go away. Now go!\"\\nFor she did not want him to see her crying. She was such a proud flower . ..\\n10\\nHe found himself in the neighborhood of the asteroids 325, 326, 327, 328, 329, and 330. He began, therefore, by visiting them, in order to add to his knowledge.\\nThe first of them was inhabited by a king. Clad in royal purple and ermine, he was seated upon a throne which was at the same time both simple and majestic.\\n\"Ah! Here is a subject,\" exclaimed the king, when he saw the little prince coming.', metadata={'source': './file/little_prince.txt'}),\n",
       " Document(page_content='On our earth we are obviously much too small to clean out our volcanoes. That is why they bring no end of trouble upon us.\\nThe little prince also pulled up, with a certain sense of dejection, the last little shoots of the baobabs. He believed that he would never want to return. But on this last morning all these familiar tasks seemed very precious to\\nhim. And when he watered the flower for the last time, and prepared to place her under the shelter of her glass globe, he realized that he was very close to tears.\\n\"Goodbye,\" he said to the flower.\\nBut she made no answer.\\n\"Goodbye,\" he said again.\\nThe flower coughed. But it was not because she had a cold.\\n\"I have been silly,\" she said to him, at last. \"I ask your forgiveness. Try to be happy . . .\"\\nHe was surprised by this absence of reproaches. He stood there all bewildered, the glass globe held arrested in mid-air. He did not understand this quiet sweetness.\\n\"Of course I love you,\" the flower said to him. \"It is my fault that you have not known it all the while. That is of no importance. But you--you have been just as foolish as I. Try to be happy . . . Let the glass globe be. I don\\'t want it any more.\"\\n\"But the wind-\\n\"\\n\"My cold is not so bad as all that . . . The cool night air will do me good. I am a flower.\"\\n\"But the animals-\\n\"\\n\"Well, I must endure the presence of two or three caterpillars if I wish to become acquainted with the butterflies. It seems that they are very beautiful. And if not the butterflies--and the caterpillars--who will call upon me? You will be far away . . . As for the large animals--I am not at all afraid of any of them. I have my claws.\"\\nAnd, naïvely, she showed her four thorns. Then she added:\\n\"Don\\'t linger like this. You have decided to go away. Now go!\"\\nFor she did not want him to see her crying. She was such a proud flower . ..\\n10\\nHe found himself in the neighborhood of the asteroids 325, 326, 327, 328, 329, and 330. He began, therefore, by visiting them, in order to add to his knowledge.\\nThe first of them was inhabited by a king. Clad in royal purple and ermine, he was seated upon a throne which was at the same time both simple and majestic.\\n\"Ah! Here is a subject,\" exclaimed the king, when he saw the little prince coming.', metadata={'source': './file/little_prince.txt'}),\n",
       " Document(page_content='On our earth we are obviously much too small to clean out our volcanoes. That is why they bring no end of trouble upon us.\\nThe little prince also pulled up, with a certain sense of dejection, the last little shoots of the baobabs. He believed that he would never want to return. But on this last morning all these familiar tasks seemed very precious to\\nhim. And when he watered the flower for the last time, and prepared to place her under the shelter of her glass globe, he realized that he was very close to tears.\\n\"Goodbye,\" he said to the flower.\\nBut she made no answer.\\n\"Goodbye,\" he said again.\\nThe flower coughed. But it was not because she had a cold.\\n\"I have been silly,\" she said to him, at last. \"I ask your forgiveness. Try to be happy . . .\"\\nHe was surprised by this absence of reproaches. He stood there all bewildered, the glass globe held arrested in mid-air. He did not understand this quiet sweetness.\\n\"Of course I love you,\" the flower said to him. \"It is my fault that you have not known it all the while. That is of no importance. But you--you have been just as foolish as I. Try to be happy . . . Let the glass globe be. I don\\'t want it any more.\"\\n\"But the wind-\\n\"\\n\"My cold is not so bad as all that . . . The cool night air will do me good. I am a flower.\"\\n\"But the animals-\\n\"\\n\"Well, I must endure the presence of two or three caterpillars if I wish to become acquainted with the butterflies. It seems that they are very beautiful. And if not the butterflies--and the caterpillars--who will call upon me? You will be far away . . . As for the large animals--I am not at all afraid of any of them. I have my claws.\"\\nAnd, naïvely, she showed her four thorns. Then she added:\\n\"Don\\'t linger like this. You have decided to go away. Now go!\"\\nFor she did not want him to see her crying. She was such a proud flower . ..\\n10\\nHe found himself in the neighborhood of the asteroids 325, 326, 327, 328, 329, and 330. He began, therefore, by visiting them, in order to add to his knowledge.\\nThe first of them was inhabited by a king. Clad in royal purple and ermine, he was seated upon a throne which was at the same time both simple and majestic.\\n\"Ah! Here is a subject,\" exclaimed the king, when he saw the little prince coming.', metadata={'source': './file/little_prince.txt'}),\n",
       " Document(page_content='On our earth we are obviously much too small to clean out our volcanoes. That is why they bring no end of trouble upon us.\\nThe little prince also pulled up, with a certain sense of dejection, the last little shoots of the baobabs. He believed that he would never want to return. But on this last morning all these familiar tasks seemed very precious to\\nhim. And when he watered the flower for the last time, and prepared to place her under the shelter of her glass globe, he realized that he was very close to tears.\\n\"Goodbye,\" he said to the flower.\\nBut she made no answer.\\n\"Goodbye,\" he said again.\\nThe flower coughed. But it was not because she had a cold.\\n\"I have been silly,\" she said to him, at last. \"I ask your forgiveness. Try to be happy . . .\"\\nHe was surprised by this absence of reproaches. He stood there all bewildered, the glass globe held arrested in mid-air. He did not understand this quiet sweetness.\\n\"Of course I love you,\" the flower said to him. \"It is my fault that you have not known it all the while. That is of no importance. But you--you have been just as foolish as I. Try to be happy . . . Let the glass globe be. I don\\'t want it any more.\"\\n\"But the wind-\\n\"\\n\"My cold is not so bad as all that . . . The cool night air will do me good. I am a flower.\"\\n\"But the animals-\\n\"\\n\"Well, I must endure the presence of two or three caterpillars if I wish to become acquainted with the butterflies. It seems that they are very beautiful. And if not the butterflies--and the caterpillars--who will call upon me? You will be far away . . . As for the large animals--I am not at all afraid of any of them. I have my claws.\"\\nAnd, naïvely, she showed her four thorns. Then she added:\\n\"Don\\'t linger like this. You have decided to go away. Now go!\"\\nFor she did not want him to see her crying. She was such a proud flower . ..\\n10\\nHe found himself in the neighborhood of the asteroids 325, 326, 327, 328, 329, and 330. He began, therefore, by visiting them, in order to add to his knowledge.\\nThe first of them was inhabited by a king. Clad in royal purple and ermine, he was seated upon a throne which was at the same time both simple and majestic.\\n\"Ah! Here is a subject,\" exclaimed the king, when he saw the little prince coming.', metadata={'source': './file/little_prince.txt'})]"
      ]
     },
     "execution_count": 17,
     "metadata": {},
     "output_type": "execute_result"
    }
   ],
   "source": [
    "results = vectorstore.similarity_search(\"where does winston live?\")\n",
    "results"
   ]
  }
 ],
 "metadata": {
  "kernelspec": {
   "display_name": "env",
   "language": "python",
   "name": "python3"
  },
  "language_info": {
   "codemirror_mode": {
    "name": "ipython",
    "version": 3
   },
   "file_extension": ".py",
   "mimetype": "text/x-python",
   "name": "python",
   "nbconvert_exporter": "python",
   "pygments_lexer": "ipython3",
   "version": "3.11.11"
  }
 },
 "nbformat": 4,
 "nbformat_minor": 2
}
