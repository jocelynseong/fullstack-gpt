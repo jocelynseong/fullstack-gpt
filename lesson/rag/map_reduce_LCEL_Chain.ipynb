{
 "cells": [
  {
   "cell_type": "markdown",
   "metadata": {},
   "source": [
    "Map Reduce \n",
    "\n",
    "\n",
    "list of docs\n",
    "for doc in list of docs | prmopt | llm \n",
    "\n",
    "for response in list of llm response | put them all together\n",
    "\n",
    "final doc | prmopt | llm"
   ]
  },
  {
   "cell_type": "code",
   "execution_count": 4,
   "metadata": {},
   "outputs": [
    {
     "name": "stdout",
     "output_type": "stream",
     "text": [
      "{'documents': [Document(page_content='The fox gazed at the little prince, for a long time.\\n\"Please-\\ntame me!\" he said.\\n\"I want to, very much,\" the little prince replied. \"But I have not much time. I have friends to discover, and a great many things to understand.\"\\n\"One only understands the things that one tames,\" said the fox. \"Men have no more time to understand anything. They buy things all ready made at the shops. But there is no shop anywhere where one can buy friendship, and so men have no friends any more. If you want a friend, tame me . . .\"\\n\"What must I do, to tame you?\" asked the little prince.\\n\"You must be very patient,\" replied the fox. \"First you will sit down at a little distance from me--like that--in the grass. I shall look at you out of the corner of my eye, and you will say nothing. Words are the source of misunderstandings. But you will sit a little closer to me, every day . . .\"\\nThe next day the little prince came back.\\n\"It would have been better to come back at the same hour,\" said the fox. \"If, for example, you come at four o\\'clock in the afternoon, then at three o\\'clock I shall begin to be happy. I shall feel happier and happier as the hour advances. At four o\\'clock, I shall already be worrying and jumping about. I shall show you how happy I am! But if you come at just any time, I shall never know at what hour my heart is to be ready to greet you . . . One must observe the proper rites . . .\"\\n\"What is a rite?\" asked the little prince.\\n\"Those also are actions too often neglected,\" said the fox. \"They are what make one day different from other days, one hour from other hours. There is a rite, for example, among my hunters. Every Thursday they dance with the village girls. So Thursday is a wonderful day for me! I can take a walk as far as the vineyards. But if the hunters danced at just any time, every day would be like every other day, and I should never have any vacation at all.\"\\nSo the little prince tamed the fox. And when the hour of his departure drew near--', metadata={'source': './file/little_prince.txt'}), Document(page_content='So the little prince tamed the fox. And when the hour of his departure drew near--\\n\"Ah,\" said the fox, \"I shall cry.\" \"It is your own fault,\" said the little prince. \"I never wished you any sort of harm; but you wanted me to tame you . . .\" \"Yes, that is so,\" said the fox. \"But now you are going to cry!\" said the little prince. \"Yes, that is so,\" said the fox. \"Then it has done you no good at all!\" \"It has done me good,\" said the fox, \"because of the color of the wheat fields.\" And then he added: \"Go and look again at the roses. You will understand now that yours is unique in all the world. Then come back to say goodbye to me, and I will make you a present of a secret.\"\\nThe little prince went away, to look again at the roses. \"You are not at all like my rose,\" he said. \"As yet you are nothing. No one has tamed you, and you have tamed no one. You are like my fox when I first knew him. He was only a fox like a hundred thousand other foxes. But I have made him my friend, and now he is unique in all the world.\" And the roses were very much embarassed.\\n\"You are beautiful, but you are empty,\" he went on. \"One could not die for you. To be sure, an ordinary passerby would think that my rose looked just like you--the rose that belongs to me. But in herself alone she is more important than all the hundreds of you other roses: because it is she that I have watered; because it is she that I have put under the glass globe; because it is she that I have sheltered behind the screen; because it is for her that I have killed the caterpillars (except the two or three that we saved to become butterflies); because it is she that I have listened to, when she grumbled, or boasted, or ever sometimes when she said nothing. Because she is my rose.\\nAnd he went back to meet the fox.\\n\"Goodbye,\" he said.\\n\"Goodbye,\" said the fox. \"And now here is my secret, a very simple secret: It is only with the heart that one can see rightly; what is essential is invisible to the eye.\"\\n\"What is essential is invisible to the eye,\" the little prince repeated, so that he would be sure to remember.\\n\"It is the time you have wasted for your rose that makes your rose so important.\"\\n\"It is the time I have wasted for my rose--\" said the little prince, so that he would be sure to remember.', metadata={'source': './file/little_prince.txt'}), Document(page_content='\"I am looking for men,\" said the little prince. \"What does that mean-- \\'tame\\'?\"\\n\"Men,\" said the fox. \"They have guns, and they hunt. It is very disturbing. They also raise chickens. These are their only interests. Are you looking for chickens?\"\\n\"No,\" said the little prince. \"I am looking for friends. What does that mean--\\'tame\\'?\"\\n\"It is an act too often neglected,\" said the fox. It means to establish ties.\"\\n\"\\'To establish ties\\'?\"\\n\"Just that,\" said the fox. \"To me, you are still nothing more than a little boy who is just like a hundred thousand other little boys. And I have no need of you. And you, on your part, have no need of me. To you, I am nothing more than a fox like a hundred thousand other foxes. But if you tame me, then we shall need each other. To me, you will be unique in all the world. To you, I shall be unique in all the world . . .\"\\n\"I am beginning to understand,\" said the little prince. \"There is a flower . . . I think that she has tamed me . . .\"\\n\"It is possible,\" said the fox. \"On the Earth one sees all sorts of things.\"\\n\"Oh, but this is not on the Earth!\" said the little prince.\\nThe fox seemed perplexed, and very curious.\\n\"On another planet?\"\\n\"Yes.\"\\n\"Are there hunters on that planet?\"\\n\"No.\"\\n\"Ah, that is interesting! Are there chickens?\"\\n\"No.\"\\n\"Nothing is perfect,\" sighed the fox.\\nBut he came back to his idea.\\n\"My life is very monotonous,\" the fox said. \"I hunt chickens; men hunt me. All the chickens are just alike, and all the men are just alike. And, in consequence, I am a little bored. But if you tame me, it will be as if the sun came to shine on my life. I shall know the sound of a step that will be different from all the others. Other steps send me hurrying back underneath the ground. Yours will call me, like music, out of my burrow. And then look: you see the grain-fields down yonder? I do not eat bread. Wheat is of no use to me. The wheat fields have nothing to say to me. And that is sad. But you have hair that is the color of gold. Think how wonderful that will be when you have tamed me! The grain, which is also golden, will bring me back the thought of you. And I shall love to listen to the wind in the wheat . . .\"\\nThe fox gazed at the little prince, for a long time.\\n\"Please-', metadata={'source': './file/little_prince.txt'}), Document(page_content='20\\nBut it happened that after walking for a long time through sand, and rocks, and snow, the little prince at last came upon a road. And all roads lead to the abodes of men.\\n\"Good morning,\" he said. He was standing before a garden, all a-bloom with roses.\\n\"Good morning,\" said the roses. The little prince gazed at them. They all looked like his flower. \"Who are you?\" he demanded, thunderstruck. \"We are roses,\" the roses said. And he was overcome with sadness. His flower had told him that she was the only one of her kind in all the universe. And here were five thousand of them, all alike, in one single garden! \"She would be very much annoyed,\" he said to himself, \"if she should see that . . . She would cough most dreadfully, and she would pretend that she was dying, to avoid being laughed at. And I should be obliged to pretend that I was nursing her back to life--for if I did not do that, to humble myself also, she would really allow herself to die. . .\"\\nThen he went on with his reflections: \"I thought that I was rich, with a flower that was unique in all the world; and all I had was a common rose. A common rose, and three volcanoes that come up to my knees--and one of them perhaps extinct forever . . . That doesn\\'t make me a very great prince . . .\"\\nAnd he lay down in the grass and cried.\\n21\\nIt was then that the fox appeared. \"Good morning,\" said the fox. \"Good morning,\" the little prince responded politely, although when he turned around he saw nothing. \"I am right here,\" the voice said, \"under the apple tree.\"\\n\"Who are you?\" asked the little prince, and added, \"You are very pretty to look at.\"\\n\"I am a fox,\" the fox said. \"Come and play with me,\" proposed the little prince. \"I am so unhappy.\" \"I cannot play with you,\" the fox said. \"I am not tamed.\" \"Ah! Please excuse me,\" said the little prince.\\nBut, after some thought, he added:\\n\"What does that mean-\\n\\'tame\\'?\"\\n\"You do not live here,\" said the fox. \"What is it that you are looking for?\"\\n\"I am looking for men,\" said the little prince. \"What does that mean-- \\'tame\\'?\"\\n\"Men,\" said the fox. \"They have guns, and they hunt. It is very disturbing. They also raise chickens. These are their only interests. Are you looking for chickens?\"\\n\"No,\" said the little prince. \"I am looking for friends. What does that mean--\\'tame\\'?\"', metadata={'source': './file/little_prince.txt'})], 'question': 'Describe fox'}\n",
      "The fox is a curious and wise creature in the story who values friendship and the idea of being tamed. Initially just like any other fox, he becomes unique in all the world after being tamed by the little prince. The fox believes that establishing ties with someone can bring joy and meaning to his existence.\n"
     ]
    }
   ],
   "source": [
    "from langchain.chat_models import ChatOpenAI\n",
    "from langchain.document_loaders import UnstructuredFileLoader\n",
    "from langchain.text_splitter import CharacterTextSplitter\n",
    "from langchain.embeddings import OpenAIEmbeddings, CacheBackedEmbeddings\n",
    "from langchain.storage import LocalFileStore\n",
    "from langchain.vectorstores import Chroma ## vector store\n",
    "from langchain.vectorstores import FAISS ## vector store\n",
    "from langchain.schema.runnable import RunnablePassthrough, RunnableLambda\n",
    "from langchain.prompts import ChatPromptTemplate\n",
    "\n",
    "cache_dir = LocalFileStore(\"../../db/vector-store/\")\n",
    "\n",
    "llm = ChatOpenAI(\n",
    "    temperature=0.1\n",
    ")\n",
    "splitter = CharacterTextSplitter.from_tiktoken_encoder(\n",
    "    separator=\"\\n\",\n",
    "    chunk_size=600,\n",
    "    chunk_overlap=100,\n",
    ")\n",
    "loader = UnstructuredFileLoader(\"./file/little_prince.txt\")\n",
    "\n",
    "docs = loader.load_and_split(text_splitter=splitter)\n",
    "embeddings = OpenAIEmbeddings()\n",
    "cached_embeddins = CacheBackedEmbeddings.from_bytes_store(embeddings,cache_dir)\n",
    "vectorstore = FAISS.from_documents(docs,cached_embeddins)\n",
    "\n",
    "retriever = vectorstore.as_retriever()\n",
    "\n",
    "\n",
    "final_p = ChatPromptTemplate.from_messages(\n",
    "    [\n",
    "        (\"system\",\"You are a helpful assistant. Answer questions using only the following context. If you don't know the answer just say you don't know, don't make it up:\\n\\n{context}\",),\n",
    "        (\"human\", \"{question}\"),\n",
    "    ]\n",
    ")\n",
    "\n",
    "map_doc_prmopt = ChatPromptTemplate.from_messages([\n",
    "    (\"system\",\"You are a helpful assistant. Answer questions using only the following context. If you don't know the answer just say you don't know, don't make it up:\\n\\n{context}\",),\n",
    "        (\"human\", \"{question}\")\n",
    "])\n",
    "\n",
    "map_doc_chain = map_doc_prmopt | llm \n",
    "\n",
    "def map_docs(inputs):\n",
    "    print(inputs)\n",
    "    documents = inputs['documents']\n",
    "    question = inputs['question']\n",
    "    return \"\\n\\n\".join(map_doc_chain.invoke({\n",
    "        \"context\" : doc.page_content,\n",
    "        \"question\" : question\n",
    "    }).content for doc in documents )\n",
    "\n",
    "map_chain = (\n",
    "    {\n",
    "        \"documents\" : retriever, \n",
    "        \"question\" : RunnablePassthrough()\n",
    "     } \n",
    "| RunnableLambda(map_docs)\n",
    ")\n",
    "\n",
    "chain = {\"context\": map_chain ,\"question\" : RunnablePassthrough()} | final_p | llm\n",
    "\n",
    "\n",
    "result = chain.invoke(\"Describe fox\")\n",
    "\n",
    "print(result.content)"
   ]
  }
 ],
 "metadata": {
  "kernelspec": {
   "display_name": "env",
   "language": "python",
   "name": "python3"
  },
  "language_info": {
   "codemirror_mode": {
    "name": "ipython",
    "version": 3
   },
   "file_extension": ".py",
   "mimetype": "text/x-python",
   "name": "python",
   "nbconvert_exporter": "python",
   "pygments_lexer": "ipython3",
   "version": "3.11.11"
  }
 },
 "nbformat": 4,
 "nbformat_minor": 2
}
