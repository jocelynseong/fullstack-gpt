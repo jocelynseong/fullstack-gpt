{
 "cells": [
  {
   "cell_type": "markdown",
   "metadata": {},
   "source": [
    "RAG\n",
    "\n",
    "Retrieval Augmented Generation (검색 증강 생성)\n",
    "- context로 질문에 필요한 데이터들을 함께 넣어서 실행\n",
    "- suff documents\n",
    "- refine\n",
    "- map reduce"
   ]
  }
 ],
 "metadata": {
  "language_info": {
   "name": "python"
  }
 },
 "nbformat": 4,
 "nbformat_minor": 2
}
