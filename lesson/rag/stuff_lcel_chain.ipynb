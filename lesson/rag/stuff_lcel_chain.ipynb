{
 "cells": [
  {
   "cell_type": "markdown",
   "metadata": {},
   "source": [
    "## stuff langchian을 직접 구현\n",
    "LCEL (LangChian Expression Langauge)를 이용해서 직접 stuff chain을 구현해보기\n",
    "\n",
    "Lang Chain의 구성요소\n",
    "- prompt\n",
    "- retriever\n",
    "-- question을 받고 vector store에서  document list를 반환 \n",
    "- llm, chatmodel\n",
    "- tool\n",
    "- outputparser"
   ]
  },
  {
   "cell_type": "code",
   "execution_count": 7,
   "metadata": {},
   "outputs": [
    {
     "name": "stdout",
     "output_type": "stream",
     "text": [
      "The fox in the story is initially described as a creature that desires to be tamed by the little prince. It explains the concept of taming as establishing ties and forming a unique bond with someone. The fox expresses that through taming, both parties become special to each other in the whole world. It also mentions that taming involves patience and observing proper rites. The fox values the time spent with the little prince and appreciates the unique connection they have formed.\n"
     ]
    }
   ],
   "source": [
    "from langchain.chains import RetrievalQA\n",
    "from langchain.chat_models import ChatOpenAI\n",
    "from langchain.document_loaders import UnstructuredFileLoader\n",
    "from langchain.text_splitter import CharacterTextSplitter\n",
    "from langchain.embeddings import OpenAIEmbeddings, CacheBackedEmbeddings\n",
    "from langchain.storage import LocalFileStore\n",
    "from langchain.vectorstores import Chroma ## vector store\n",
    "from langchain.vectorstores import FAISS ## vector store\n",
    "from langchain.schema import Document\n",
    "from langchain.schema.runnable import RunnablePassthrough\n",
    "from langchain.prompts import ChatPromptTemplate\n",
    "\n",
    "cache_dir = LocalFileStore(\"../../db/vector-store/\")\n",
    "\n",
    "llm = ChatOpenAI(\n",
    "    temperature=0.1\n",
    ")\n",
    "splitter = CharacterTextSplitter.from_tiktoken_encoder(\n",
    "    separator=\"\\n\",\n",
    "    chunk_size=600,\n",
    "    chunk_overlap=100,\n",
    ")\n",
    "loader = UnstructuredFileLoader(\"./file/little_prince.txt\")\n",
    "\n",
    "docs = loader.load_and_split(text_splitter=splitter)\n",
    "embeddings = OpenAIEmbeddings()\n",
    "cached_embeddins = CacheBackedEmbeddings.from_bytes_store(embeddings,cache_dir)\n",
    "vectorstore = FAISS.from_documents(docs,cached_embeddins)\n",
    "\n",
    "retriever = vectorstore.as_retriever()\n",
    "\n",
    "prompt = ChatPromptTemplate.from_messages(\n",
    "    [\n",
    "        (\"system\",\"You are a helpful assistant. Answer questions using only the following context. If you don't know the answer just say you don't know, don't make it up:\\n\\n{context}\",),\n",
    "        (\"human\", \"{question}\"),\n",
    "    ]\n",
    ")\n",
    "\n",
    "chain = {\"context\" :retriever, \"question\" : RunnablePassthrough()} | prompt | llm\n",
    "\n",
    "result = chain.invoke(\"Describe fox\")\n",
    "\n",
    "print(result.content)"
   ]
  }
 ],
 "metadata": {
  "kernelspec": {
   "display_name": "env",
   "language": "python",
   "name": "python3"
  },
  "language_info": {
   "codemirror_mode": {
    "name": "ipython",
    "version": 3
   },
   "file_extension": ".py",
   "mimetype": "text/x-python",
   "name": "python",
   "nbconvert_exporter": "python",
   "pygments_lexer": "ipython3",
   "version": "3.11.11"
  }
 },
 "nbformat": 4,
 "nbformat_minor": 2
}
