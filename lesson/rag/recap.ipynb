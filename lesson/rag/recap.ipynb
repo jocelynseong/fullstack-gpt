{
 "cells": [
  {
   "cell_type": "markdown",
   "metadata": {},
   "source": [
    "## \n",
    "split docs (문서 분할을 해야 작업이 쉬워지고 응답이 빨라짐.)\n",
    "embeddings (vector로 각 점수를 매김)\n",
    "vector store (저장해줌)\n",
    "RetrievalQA (llm, chain 종류, revreiver-검색해오기)"
   ]
  }
 ],
 "metadata": {
  "kernelspec": {
   "display_name": "env",
   "language": "python",
   "name": "python3"
  },
  "language_info": {
   "name": "python",
   "version": "3.11.11"
  }
 },
 "nbformat": 4,
 "nbformat_minor": 2
}
