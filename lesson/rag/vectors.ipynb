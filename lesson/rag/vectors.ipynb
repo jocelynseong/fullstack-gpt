{
 "cells": [
  {
   "cell_type": "markdown",
   "metadata": {},
   "source": [
    "## embedding\n",
    "텍스트를 컴퓨터가 이해할 수 있는 숫자로 변환하는 작업 \n",
    "\n",
    "vectorization = 벡터화 \n",
    "각 문서마다 벡터를 만들어줄거임\n",
    "\n",
    "openai는 1000차원\n",
    "\n",
    "3개의 차원을 가지고 우선 vector를 만들어볼거임\n",
    "\n",
    "Masculinity | Femininity | Royalty\n",
    "\n",
    "king | 0.9 | 0.1 | 1.0\n",
    "queen | 0.1 | 0.9 | 1.0\n",
    "man | 0.9 | 0.1 | 0.0 \n",
    "\n",
    "king-main\n",
    "royal | 0.0 | 0.0 | 1.0\n",
    "woman | 0.1 | 0.9 | 0.0\n",
    "royal+woman\n",
    "queen  | 0.1 | 0.9 | 1.0 \n",
    "\n",
    "knight  \n",
    "\n",
    "벡터를 GPT에 전달 하지 않음.\n",
    "임베딩을 통해 비슷한 문서를 검색해서 LLM에게 전달."
   ]
  },
  {
   "cell_type": "code",
   "execution_count": null,
   "metadata": {
    "vscode": {
     "languageId": "plaintext"
    }
   },
   "outputs": [],
   "source": []
  }
 ],
 "metadata": {
  "language_info": {
   "name": "python"
  }
 },
 "nbformat": 4,
 "nbformat_minor": 2
}
