{
 "cells": [
  {
   "cell_type": "markdown",
   "metadata": {},
   "source": [
    "RAG 첫번째 단계 Retrival\n",
    "랭체인의 첫번째 단계\n",
    "data connection\n",
    "source - load - transform - embed - store - retreive"
   ]
  },
  {
   "cell_type": "code",
   "execution_count": 21,
   "metadata": {},
   "outputs": [
    {
     "name": "stderr",
     "output_type": "stream",
     "text": [
      "Created a chunk of size 919, which is longer than the specified 600\n",
      "Created a chunk of size 1077, which is longer than the specified 600\n",
      "Created a chunk of size 973, which is longer than the specified 600\n",
      "Created a chunk of size 1081, which is longer than the specified 600\n",
      "Created a chunk of size 1060, which is longer than the specified 600\n",
      "Created a chunk of size 694, which is longer than the specified 600\n",
      "Created a chunk of size 658, which is longer than the specified 600\n",
      "Created a chunk of size 604, which is longer than the specified 600\n",
      "Created a chunk of size 710, which is longer than the specified 600\n",
      "Created a chunk of size 829, which is longer than the specified 600\n",
      "Created a chunk of size 688, which is longer than the specified 600\n",
      "Created a chunk of size 1468, which is longer than the specified 600\n",
      "Created a chunk of size 702, which is longer than the specified 600\n",
      "Created a chunk of size 1077, which is longer than the specified 600\n",
      "Created a chunk of size 610, which is longer than the specified 600\n",
      "Created a chunk of size 775, which is longer than the specified 600\n",
      "Created a chunk of size 602, which is longer than the specified 600\n",
      "Created a chunk of size 871, which is longer than the specified 600\n"
     ]
    },
    {
     "data": {
      "text/plain": [
       "190"
      ]
     },
     "execution_count": 21,
     "metadata": {},
     "output_type": "execute_result"
    }
   ],
   "source": [
    "from langchain.chat_models import ChatOpenAI\n",
    "from langchain.document_loaders import UnstructuredFileLoader\n",
    "from langchain.text_splitter import RecursiveCharacterTextSplitter, CharacterTextSplitter\n",
    "\n",
    "spliter = CharacterTextSplitter(\n",
    "    separator=\"\\n\",\n",
    "    chunk_size=600,\n",
    "    chunk_overlap=100\n",
    ")\n",
    "\n",
    "llm = ChatOpenAI(temperature=0.1)\n",
    "\n",
    "loader = UnstructuredFileLoader('./file/little_prince.txt')\n",
    "\n",
    "len(loader.load_and_split(text_splitter=spliter))\n",
    "\n",
    "\n"
   ]
  }
 ],
 "metadata": {
  "kernelspec": {
   "display_name": "env",
   "language": "python",
   "name": "python3"
  },
  "language_info": {
   "codemirror_mode": {
    "name": "ipython",
    "version": 3
   },
   "file_extension": ".py",
   "mimetype": "text/x-python",
   "name": "python",
   "nbconvert_exporter": "python",
   "pygments_lexer": "ipython3",
   "version": "3.11.11"
  }
 },
 "nbformat": 4,
 "nbformat_minor": 2
}
