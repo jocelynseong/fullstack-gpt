{
 "cells": [
  {
   "cell_type": "code",
   "execution_count": 39,
   "metadata": {},
   "outputs": [
    {
     "name": "stdout",
     "output_type": "stream",
     "text": [
      "Sure! How about trying to make a simple and delicious Indian dish called \"Chana Masala\"? It's a spicy chickpea curry that is easy to make and full of flavor. Here's a basic recipe for you to try:\n",
      "\n",
      "Ingredients:\n",
      "- 2 cans of chickpeas, drained and rinsed\n",
      "- 1 onion, finely chopped\n",
      "- 2 cloves of garlic, minced\n",
      "- 1-inch piece of ginger, grated\n",
      "- 1 can of diced tomatoes\n",
      "- 1 tablespoon of vegetable oil\n",
      "- 1 teaspoon of cumin seeds\n",
      "- 1 teaspoon of ground coriander\n",
      "- 1 teaspoon of ground cumin\n",
      "- 1 teaspoon of turmeric\n",
      "- 1 teaspoon of garam masala\n",
      "- Salt and pepper to taste\n",
      "- Fresh cilantro for garnish\n",
      "\n",
      "Instructions:\n",
      "1. Heat the vegetable oil in a large pan over medium heat. Add the cumin seeds and cook until they start to sizzle.\n",
      "2. Add the chopped onion, garlic, and ginger to the pan. Cook until the onion is soft and translucent.\n",
      "3. Stir in the ground coriander, ground cumin, turmeric, and garam masala. Cook for another minute to toast the spices.\n",
      "4. Add the diced tomatoes to the pan and cook for a few minutes until the mixture thickens slightly.\n",
      "5. Add the chickpeas to the pan and stir to coat them in the spice mixture. Add a little water if the mixture is too thick.\n",
      "6. Simmer the chana masala for about 15-20 minutes, stirring occasionally, until the flavors have melded together.\n",
      "7. Season with salt and pepper to taste.\n",
      "8. Serve the chana masala hot, garnished with fresh cilantro. Enjoy with rice or naan bread.\n",
      "\n",
      "I hope you enjoy making and eating this flavorful Indian dish! Let me know if you have any questions.I'm sorry, but I can't provide a modified version of this recipe as it involves significant changes to the original content. If you have any specific dietary restrictions or preferences, please let me know, and I can suggest alternative recipes that align with your needs."
     ]
    },
    {
     "data": {
      "text/plain": [
       "AIMessageChunk(content=\"I'm sorry, but I can't provide a modified version of this recipe as it involves significant changes to the original content. If you have any specific dietary restrictions or preferences, please let me know, and I can suggest alternative recipes that align with your needs.\")"
      ]
     },
     "execution_count": 39,
     "metadata": {},
     "output_type": "execute_result"
    }
   ],
   "source": [
    "from langchain.chat_models import ChatOpenAI\n",
    "from langchain.prompts import ChatPromptTemplate\n",
    "from langchain.callbacks import StreamingStdOutCallbackHandler\n",
    "chat = ChatOpenAI(temperature=0.1, streaming=True, callbacks=[StreamingStdOutCallbackHandler()])\n",
    "\n",
    "chef_propt = ChatPromptTemplate.from_messages([\n",
    "    (\"system\", \"당신은 세게적인 요리사입니다. 쉬운 요리법을 제시하려고 합니다.\"),\n",
    "    (\"human\", \"I want to cook {cuisine} food.\")\n",
    "])\n",
    "\n",
    "chef_chain = chef_propt | chat \n",
    "\n",
    "vegi_prompt = ChatPromptTemplate.from_messages([\n",
    "    (\"system\", \"채식주의자 요리사입니다. 대체하는 레시피를 다시 만들어줘. 다만, 레시피를 너무 많이 변경할 수는 없어. 레시피를 너무 많이 변경하면 안됩니다. 만약에 대체할 수 없으면 솔직하게 말해\"),\n",
    "    (\"human\", \"{recipie}\")\n",
    "])\n",
    "\n",
    "veg_chain = vegi_prompt | chat\n",
    "\n",
    "final_chain = {\"recipie\" : chef_chain} | veg_chain\n",
    "\n",
    "final_chain.invoke({\n",
    "    \"cuisine\" : \"indian\"\n",
    "})\n"
   ]
  }
 ],
 "metadata": {
  "kernelspec": {
   "display_name": "env",
   "language": "python",
   "name": "python3"
  },
  "language_info": {
   "codemirror_mode": {
    "name": "ipython",
    "version": 3
   },
   "file_extension": ".py",
   "mimetype": "text/x-python",
   "name": "python",
   "nbconvert_exporter": "python",
   "pygments_lexer": "ipython3",
   "version": "3.11.11"
  }
 },
 "nbformat": 4,
 "nbformat_minor": 2
}
