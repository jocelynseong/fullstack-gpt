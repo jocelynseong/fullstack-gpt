{
 "cells": [
  {
   "cell_type": "markdown",
   "metadata": {},
   "source": [
    "## 문제\n",
    "앞서 배운 메모리 클래스 중 하나를 사용하는 메모리로 LCEL 체인을 구현합니다.\n",
    "이 체인은 영화 제목을 가져와 영화를 나타내는 세 개의 이모티콘으로 응답해야 합니다. (예: \"탑건\" -> \"🛩️👨‍✈️🔥\". \"대부\" -> \"👨‍👨‍👦🔫🍝\").\n",
    "항상 세 개의 이모티콘으로 답장하도록 FewShotPromptTemplate 또는 FewShotChatMessagePromptTemplate을 사용하여 체인에 예시를 제공하세요.\n",
    "메모리가 작동하는지 확인하려면 체인에 두 개의 영화에 대해 질문한 다음 다른 셀에서 체인에 먼저 질문한 영화가 무엇인지 알려달라고 요청하세요."
   ]
  },
  {
   "cell_type": "code",
   "execution_count": null,
   "metadata": {},
   "outputs": [
    {
     "name": "stdout",
     "output_type": "stream",
     "text": [
      "{'question': 'love actually'}\n",
      "[]\n",
      "❤️🎄👫{'question': 'titanic'}\n",
      "[HumanMessage(content='love actually'), AIMessage(content='❤️🎄👫')]\n",
      "🚢💔🎶"
     ]
    }
   ],
   "source": [
    "from langchain.memory import ConversationSummaryBufferMemory\n",
    "from langchain.prompts import FewShotChatMessagePromptTemplate\n",
    "from langchain.prompts import ChatPromptTemplate, MessagesPlaceholder\n",
    "from langchain.chat_models import ChatOpenAI\n",
    "from langchain.schema.runnable import RunnablePassthrough\n",
    "from langchain.callbacks import StreamingStdOutCallbackHandler\n",
    "\n",
    "## llm\n",
    "llm = ChatOpenAI(\n",
    "    temperature=0.1,\n",
    "    streaming=True,\n",
    "    callbacks=[StreamingStdOutCallbackHandler()]\n",
    ")\n",
    "\n",
    "## 예시 제공\n",
    "chat_examples = [\n",
    "    {\n",
    "        \"question\": \"탑건\",\n",
    "        \"answer\": \"🛩️👨‍✈️🔥\",\n",
    "    },\n",
    "    {\n",
    "        \"question\": \"대부\",\n",
    "        \"answer\": \"👨‍👨‍👦🔫🍝\",\n",
    "    },\n",
    "    {\n",
    "        \"question\" : \"what was last movie i asked?\",\n",
    "        \"answer\" : \"대부\"\n",
    "    },\n",
    "    {\n",
    "        \"question\" : \"what was last movie i asked?\",\n",
    "        \"answer\" : \"탑건\"\n",
    "    }\n",
    "]\n",
    "\n",
    "chat_prompt = ChatPromptTemplate.from_messages([\n",
    "    (\"human\", \"{question}\"),\n",
    "    (\"ai\", \"{answer}\")\n",
    "])\n",
    "\n",
    "chat_prompt = FewShotChatMessagePromptTemplate(\n",
    "    example_prompt=chat_prompt,\n",
    "    examples=chat_examples\n",
    ")\n",
    "\n",
    "prompt = ChatPromptTemplate.from_messages(\n",
    "    [\n",
    "        (\"system\", \n",
    "          \"You are a global movie expert. Your responses should adhere to the following rules: \"\n",
    "            \"1. If the human provides only the name of a movie, respond with exactly three emojis that are relevant to the movie's themes, genre, or notable elements. \"\n",
    "            \"2. If the human asks, 'What was the last movie I asked?', reply only with the title of the most recently mentioned movie by the human. \"\n",
    "            \"3. Keep your responses brief and strictly aligned with the rules above, without adding any extra information or commentary.\"\n",
    "        ),\n",
    "        chat_prompt,\n",
    "        MessagesPlaceholder(variable_name=\"history\"),\n",
    "        (\"human\", \"{question}\"),\n",
    "    ]\n",
    ")\n",
    "\n",
    "memory = ConversationSummaryBufferMemory(\n",
    "    llm=llm,\n",
    "    max_token_limit=120,\n",
    "    return_messages=True,\n",
    ")\n",
    "\n",
    "def load_memory(input):\n",
    "    print(input)\n",
    "    ## 메모리 로드\n",
    "    w = memory.load_memory_variables({})['history']\n",
    "    print(w)\n",
    "    return w\n",
    "\n",
    "chain = RunnablePassthrough.assign(history=load_memory) | prompt  | llm\n",
    "\n",
    "def invoke_chain(question):\n",
    "    result = chain.invoke({\n",
    "        \"question\" : question\n",
    "    })\n",
    "    ## 메모리에 저장\n",
    "    memory.save_context({\"input\" : question}, {\"output\":result.content})\n",
    "\n",
    "\n",
    "invoke_chain('love actually')\n",
    "invoke_chain('titanic')"
   ]
  },
  {
   "cell_type": "code",
   "execution_count": 51,
   "metadata": {},
   "outputs": [
    {
     "name": "stdout",
     "output_type": "stream",
     "text": [
      "{'question': '최근에 물어본 영화 이름이 뭐야?'}\n",
      "[HumanMessage(content='love actually'), AIMessage(content='❤️🎄👫'), HumanMessage(content='titanic'), AIMessage(content='🚢💔🎶')]\n",
      "titanic"
     ]
    }
   ],
   "source": [
    "invoke_chain('최근에 물어본 영화 이름이 뭐야?')"
   ]
  }
 ],
 "metadata": {
  "kernelspec": {
   "display_name": "env",
   "language": "python",
   "name": "python3"
  },
  "language_info": {
   "codemirror_mode": {
    "name": "ipython",
    "version": 3
   },
   "file_extension": ".py",
   "mimetype": "text/x-python",
   "name": "python",
   "nbconvert_exporter": "python",
   "pygments_lexer": "ipython3",
   "version": "3.11.11"
  }
 },
 "nbformat": 4,
 "nbformat_minor": 2
}
